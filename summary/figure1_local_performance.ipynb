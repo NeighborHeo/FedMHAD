{
 "cells": [
  {
   "cell_type": "code",
   "execution_count": null,
   "metadata": {},
   "outputs": [],
   "source": [
    "import pandas as pd\n",
    "\n",
    "# Load data\n",
    "df = pd.read_csv(\"./local_performance.csv\", index_col=0, header=[0, 1])"
   ]
  },
  {
   "cell_type": "code",
   "execution_count": null,
   "metadata": {},
   "outputs": [],
   "source": [
    "import pandas as pd\n",
    "import seaborn as sns\n",
    "import matplotlib.pyplot as plt\n",
    "\n",
    "# sns.boxplot(data=df)\n",
    "# 4개의 subplot으로 그리자\n",
    "fig, axes = plt.subplots(1, 4, figsize=(8, 4))\n",
    "unique_level1_list = df.columns.get_level_values(1).unique()\n",
    "axes_order = [\"mIoU\", \"F1 Score\", \"Accuracy\", \"Loss\"]\n",
    "model_labels = ['SegFormer B0', 'DeepLabV3+ResNet34']\n",
    "color = ['tab:blue', 'tab:orange']\n",
    "for i, (name, data) in enumerate(df.groupby(level=1, axis=1)):\n",
    "    # print(name)\n",
    "    # print(data)\n",
    "    # print(data.columns)\n",
    "    index = axes_order.index(name)\n",
    "    sns.boxplot(data=data, ax=axes[index])\n",
    "    axes[index].set_ylabel(name)\n",
    "    if name != 'Loss':\n",
    "        axes[index].set_ylim(0, 1)\n",
    "    else:\n",
    "        axes[index].set_ylim(0, 2)\n",
    "    \n",
    "    # mean to text on top of each bar\n",
    "    for j, (mean, std) in enumerate(zip(data.mean(), data.std())):\n",
    "        top_of_bar = axes[index].get_ylim()[1] * 0.9\n",
    "        #axes[index].text(j, top_of_bar + 0.01, f'{mean:.2f}\\n(±{std:.2f})', ha='center', va='bottom', fontsize=10)\n",
    "        axes[index].text(j, top_of_bar, f'{mean:.2f}\\n(±{std:.2f})', ha='center', va='center', fontsize=10)\n",
    "    \n",
    "    axes[index].set_title(name, fontsize=11)\n",
    "    axes[index].set_ylabel('')  # y축 레이블 제거\n",
    "    axes[index].set_xticklabels(['model 1', 'model 2'])\n",
    "    #legend    axes[index].legend(labels=['DeepLabV3+ResNet34', 'SegFormer B0'], loc='upper center', ncol=2, bbox_to_anchor=(0.5, 0.05), fontsize=12, frameon=False)\n",
    "# 모델명에 대한 레이블 설정\n",
    "\n",
    "model_legend = [plt.Line2D([0], [0], marker='o', color='w', markerfacecolor=color[i], label=label)\n",
    "                for i, label in enumerate(model_labels)]\n",
    "\n",
    "# 서브플롯에 모델명 레이블 추가\n",
    "fig.legend(handles=model_legend, loc='upper center', bbox_to_anchor=(0.5, 0.0), fontsize=10, frameon=False)\n",
    "# title \n",
    "fig.suptitle('Comparison of the performance of the base model on local client dataset', fontsize=12)\n",
    "# legend (model1 is DeepLabV3+ResNet34, model2 is SegFormer B0 )\n",
    "#fig.legend(labels=['DeepLabV3+ResNet34', 'SegFormer B0'], loc='upper center', ncol=2, bbox_to_anchor=(0.5, 0.05), fontsize=12, frameon=False)\n",
    "plt.tight_layout()\n",
    "plt.savefig(\"./local_performance.png\", dpi=300, bbox_inches='tight')\n",
    "plt.show()"
   ]
  }
 ],
 "metadata": {
  "kernelspec": {
   "display_name": ".venv",
   "language": "python",
   "name": "python3"
  },
  "language_info": {
   "codemirror_mode": {
    "name": "ipython",
    "version": 3
   },
   "file_extension": ".py",
   "mimetype": "text/x-python",
   "name": "python",
   "nbconvert_exporter": "python",
   "pygments_lexer": "ipython3",
   "version": "3.8.13"
  },
  "orig_nbformat": 4
 },
 "nbformat": 4,
 "nbformat_minor": 2
}
