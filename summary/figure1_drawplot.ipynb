{
 "cells": [
  {
   "cell_type": "code",
   "execution_count": null,
   "metadata": {},
   "outputs": [],
   "source": [
    "# /home/suncheol/code/FedTest/0_FedMHAD_Seg/summary/test_multiclass_jaccard_index_vs_step_chart_data.json\n",
    "import json\n",
    "import matplotlib.pyplot as plt\n",
    "import numpy as np\n",
    "import os\n",
    "import pandas as pd\n",
    "import seaborn as sns\n",
    "import sys\n",
    "import torch\n",
    "import torchmetrics\n",
    "\n",
    "# read json file\n",
    "with open(\"test_multiclass_jaccard_index_vs_step_chart_data_NIID.json\", \"r\") as f:\n",
    "    data = json.load(f)\n",
    "\n",
    "# plot data\n",
    "fig, ax = plt.subplots(figsize=(7, 4))\n",
    "for i, client_data in enumerate(data):\n",
    "    # key x : step, y : jaccard_index\n",
    "    linestyle = \"--\" if \"client\" in client_data[\"name\"] else \"-\"\n",
    "    max_value = max(client_data[\"y\"])\n",
    "    client_name = client_data[\"name\"]\n",
    "    sns.lineplot(x=client_data[\"x\"], y=client_data[\"y\"], label=f\"{client_name} ({max_value:.3f})\", ax=ax, linestyle=linestyle, linewidth=0.8)\n",
    "    \n",
    "ax.set_xlabel(\"Communication Rounds\", fontsize=11)\n",
    "ax.set_ylabel(\"Score (mIoU)\", fontsize=11)\n",
    "ax.set_title(\"Comparison of Segmentation mIoU Performance (NIID)\", fontsize=13)\n",
    "ax.set_xticks(np.arange(0, 101, 10))\n",
    "ax.set_yticks(np.arange(0, 0.55, 0.05))\n",
    "# horizontal grid\n",
    "ax.grid(axis=\"y\", alpha=0.4)\n",
    "ax.grid(axis=\"x\", alpha=0.4)\n",
    "\n",
    "# legend position\n",
    "plt.legend(bbox_to_anchor=(1.05, 1), loc=2, borderaxespad=0.)\n",
    "plt.savefig(\"test_multiclass_jaccard_index_vs_step_chart.png\", dpi=300, bbox_inches=\"tight\")\n",
    "plt.show()\n"
   ]
  },
  {
   "cell_type": "code",
   "execution_count": null,
   "metadata": {},
   "outputs": [],
   "source": [
    "# /home/suncheol/code/FedTest/0_FedMHAD_Seg/summary/test_multiclass_jaccard_index_vs_step_chart_data.json\n",
    "import json\n",
    "import matplotlib.pyplot as plt\n",
    "import numpy as np\n",
    "import os\n",
    "import pandas as pd\n",
    "import seaborn as sns\n",
    "import sys\n",
    "import torch\n",
    "import torchmetrics\n",
    "# read json file\n",
    "with open(\"test_multiclass_jaccard_index_vs_step_chart_data_local_epoch.json\", \"r\") as f:\n",
    "    data = json.load(f)\n",
    "\n",
    "# plot data\n",
    "fig, ax = plt.subplots(figsize=(7, 3))\n",
    "for i, client_data in enumerate(data):\n",
    "    # key x : step, y : jaccard_index\n",
    "    linestyle = \"--\" if \"client\" in client_data[\"name\"] else \"-\"\n",
    "    max_value = max(client_data[\"y\"])\n",
    "    client_name = client_data[\"name\"]\n",
    "    sns.lineplot(x=client_data[\"x\"], y=client_data[\"y\"], label=f\"{client_name} ({max_value:.3f})\", ax=ax, linestyle=linestyle, linewidth=0.8)\n",
    "    \n",
    "ax.set_xlabel(\"Communication Rounds\", fontsize=11)\n",
    "ax.set_ylabel(\"Score (mIoU)\", fontsize=11)\n",
    "ax.set_title(\"Comparison of Segmentation mIoU Performance (Local Epoch)\", fontsize=13)\n",
    "# ax.set_xticks(np.arange(0, 101, 10))\n",
    "# ax.set_yticks(np.arange(0, 0.55, 0.05))\n",
    "# horizontal grid\n",
    "ax.grid(axis=\"y\", alpha=0.4)\n",
    "ax.grid(axis=\"x\", alpha=0.4)\n",
    "\n",
    "# legend position\n",
    "plt.legend(bbox_to_anchor=(1.05, 1), loc=2, borderaxespad=0.)\n",
    "plt.savefig(\"test_multiclass_jaccard_index_vs_step_chart_Local Epoch.png\", dpi=300, bbox_inches=\"tight\")\n",
    "plt.show()\n"
   ]
  },
  {
   "cell_type": "code",
   "execution_count": null,
   "metadata": {},
   "outputs": [],
   "source": [
    "data[0]"
   ]
  },
  {
   "cell_type": "code",
   "execution_count": null,
   "metadata": {},
   "outputs": [],
   "source": []
  }
 ],
 "metadata": {
  "kernelspec": {
   "display_name": ".venv",
   "language": "python",
   "name": "python3"
  },
  "language_info": {
   "codemirror_mode": {
    "name": "ipython",
    "version": 3
   },
   "file_extension": ".py",
   "mimetype": "text/x-python",
   "name": "python",
   "nbconvert_exporter": "python",
   "pygments_lexer": "ipython3",
   "version": "3.8.13"
  },
  "orig_nbformat": 4
 },
 "nbformat": 4,
 "nbformat_minor": 2
}
