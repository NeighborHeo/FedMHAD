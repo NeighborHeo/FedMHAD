{
 "cells": [
  {
   "cell_type": "code",
   "execution_count": 4,
   "metadata": {},
   "outputs": [],
   "source": [
    "import os\n",
    "import sys\n",
    "import pathlib\n",
    "sys.path.append(os.path.abspath(os.path.join(os.getcwd(), os.pardir)))\n",
    "import torch\n",
    "import math\n",
    "import matplotlib.pyplot as plt\n",
    "import numpy as np\n",
    "import torch\n",
    "import torch.nn as nn\n",
    "import torch.optim as optim\n",
    "import torchvision.transforms as transforms\n",
    "import torchvision.datasets as datasets\n",
    "from torchvision.transforms.functional import InterpolationMode\n",
    "from torch.utils.data import DataLoader\n",
    "from PIL import Image\n",
    "\n",
    "import albumentations as A\n",
    "from albumentations.pytorch import ToTensorV2\n",
    "\n",
    "import models\n",
    "import utils\n",
    "import datasets\n",
    "import config\n",
    "utils.set_seed(42)"
   ]
  },
  {
   "cell_type": "code",
   "execution_count": 5,
   "metadata": {},
   "outputs": [
    {
     "name": "stdout",
     "output_type": "stream",
     "text": [
      "args.excluded_heads []\n"
     ]
    }
   ],
   "source": [
    "args = config.init_args(server=True, ipykernel=True)"
   ]
  },
  {
   "cell_type": "code",
   "execution_count": 9,
   "metadata": {},
   "outputs": [
    {
     "name": "stdout",
     "output_type": "stream",
     "text": [
      "Loading pretrained model...\n",
      "Model: segformer\n",
      "  Number of parameters: 3719541\n",
      "  Model size (MB): 14.19\n",
      "Model: deeplabv3plus\n",
      "  Number of parameters: 22442597\n",
      "  Model size (MB): 85.61\n"
     ]
    }
   ],
   "source": [
    "model_info = {}\n",
    "model_names = ['segformer', 'deeplabv3plus']\n",
    "\n",
    "for model_name in model_names:\n",
    "    model = models.get_network(model_name, 21, pretrained=True)\n",
    "    num_parameters = sum(p.numel() for p in model.parameters())\n",
    "    model_size = 0\n",
    "    for p in model.parameters():\n",
    "        model_size += p.element_size() * p.nelement()\n",
    "    model_size = model_size / 1024 / 1024  # Bytes를 Megabytes로 변환\n",
    "    model_info[model_name] = {\n",
    "        'num_parameters': num_parameters,\n",
    "        'model_size_MB': model_size\n",
    "    }\n",
    "\n",
    "for model_name, info in model_info.items():\n",
    "    print(f\"Model: {model_name}\")\n",
    "    print(f\"  Number of parameters: {info['num_parameters']}\")\n",
    "    print(f\"  Model size (MB): {info['model_size_MB']:.2f}\")"
   ]
  },
  {
   "cell_type": "code",
   "execution_count": 12,
   "metadata": {},
   "outputs": [],
   "source": [
    "# make table for report\n",
    "import pandas as pd\n",
    "df = pd.DataFrame(model_info).T\n",
    "df = df[['model_size_MB', 'num_parameters']]\n",
    "df.columns = ['Model Size (MB)', 'Number of Parameters']\n",
    "df.index.name = 'Model'\n",
    "df.to_csv('model_size.csv')"
   ]
  },
  {
   "cell_type": "code",
   "execution_count": null,
   "metadata": {},
   "outputs": [],
   "source": []
  }
 ],
 "metadata": {
  "kernelspec": {
   "display_name": ".venv",
   "language": "python",
   "name": "python3"
  },
  "language_info": {
   "codemirror_mode": {
    "name": "ipython",
    "version": 3
   },
   "file_extension": ".py",
   "mimetype": "text/x-python",
   "name": "python",
   "nbconvert_exporter": "python",
   "pygments_lexer": "ipython3",
   "version": "3.8.13"
  },
  "orig_nbformat": 4
 },
 "nbformat": 4,
 "nbformat_minor": 2
}
